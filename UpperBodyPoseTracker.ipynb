{
  "nbformat": 4,
  "nbformat_minor": 0,
  "metadata": {
    "colab": {
      "name": "UpperBodyPoseTracker",
      "provenance": [],
      "collapsed_sections": [],
      "include_colab_link": true
    },
    "kernelspec": {
      "name": "python3",
      "display_name": "Python 3"
    }
  },
  "cells": [
    {
      "cell_type": "markdown",
      "metadata": {
        "id": "view-in-github",
        "colab_type": "text"
      },
      "source": [
        "<a href=\"https://colab.research.google.com/github/prakhargoyal106/AI_Curriculum/blob/master/UpperBodyPoseTracker.ipynb\" target=\"_parent\"><img src=\"https://colab.research.google.com/assets/colab-badge.svg\" alt=\"Open In Colab\"/></a>"
      ]
    },
    {
      "cell_type": "code",
      "metadata": {
        "id": "g-3ozdax5Xfq",
        "colab_type": "code",
        "colab": {
          "base_uri": "https://localhost:8080/",
          "height": 34
        },
        "outputId": "029b5422-959d-4abf-9286-6e6c83ee27b8"
      },
      "source": [
        "from google.colab import drive\n",
        "drive.mount('/content/drive')"
      ],
      "execution_count": 1,
      "outputs": [
        {
          "output_type": "stream",
          "text": [
            "Drive already mounted at /content/drive; to attempt to forcibly remount, call drive.mount(\"/content/drive\", force_remount=True).\n"
          ],
          "name": "stdout"
        }
      ]
    },
    {
      "cell_type": "code",
      "metadata": {
        "id": "skXCZqhfxmSc",
        "colab_type": "code",
        "colab": {
          "base_uri": "https://localhost:8080/",
          "height": 185
        },
        "outputId": "2d48b804-b7ac-4502-af26-582ca4b0b53c"
      },
      "source": [
        "# Minimum dependency for MediaPipe Solutions Python API is opencv-python\n",
        "!pip install opencv-python~=3.4.11\n",
        "!pip install mediapipe"
      ],
      "execution_count": 2,
      "outputs": [
        {
          "output_type": "stream",
          "text": [
            "Requirement already satisfied: opencv-python~=3.4.11 in /usr/local/lib/python3.6/dist-packages (3.4.11.41)\n",
            "Requirement already satisfied: numpy>=1.13.3 in /usr/local/lib/python3.6/dist-packages (from opencv-python~=3.4.11) (1.18.5)\n",
            "Requirement already satisfied: mediapipe in /usr/local/lib/python3.6/dist-packages (0.7.10)\n",
            "Requirement already satisfied: opencv-python<4.0.0,>=3.4.0 in /usr/local/lib/python3.6/dist-packages (from mediapipe) (3.4.11.41)\n",
            "Requirement already satisfied: six in /usr/local/lib/python3.6/dist-packages (from mediapipe) (1.15.0)\n",
            "Requirement already satisfied: absl-py in /usr/local/lib/python3.6/dist-packages (from mediapipe) (0.10.0)\n",
            "Requirement already satisfied: protobuf>=3.11.4 in /usr/local/lib/python3.6/dist-packages (from mediapipe) (3.12.4)\n",
            "Requirement already satisfied: numpy in /usr/local/lib/python3.6/dist-packages (from mediapipe) (1.18.5)\n",
            "Requirement already satisfied: wheel in /usr/local/lib/python3.6/dist-packages (from mediapipe) (0.35.1)\n",
            "Requirement already satisfied: setuptools in /usr/local/lib/python3.6/dist-packages (from protobuf>=3.11.4->mediapipe) (50.3.0)\n"
          ],
          "name": "stdout"
        }
      ]
    },
    {
      "cell_type": "code",
      "metadata": {
        "id": "Km9hpIklnKZQ",
        "colab_type": "code",
        "colab": {}
      },
      "source": [
        "import mediapipe as mp\n",
        "import numpy as np\n",
        "import cv2\n",
        "import matplotlib.pyplot as plt\n"
      ],
      "execution_count": 11,
      "outputs": []
    },
    {
      "cell_type": "markdown",
      "metadata": {
        "id": "wfGKmO3TokSx",
        "colab_type": "text"
      },
      "source": [
        "There are 2 ways to pass input to `mp.examples.UpperBodyPoseTracker()`. Pls refer to the `help(mp.examples.UpperBodyPoseTracker)`\n",
        "1.   input_frame, containing numpy array representing the image\n",
        "2.   input_fie, image file that was uploaded"
      ]
    },
    {
      "cell_type": "code",
      "metadata": {
        "id": "L68-ijFYSHnd",
        "colab_type": "code",
        "colab": {}
      },
      "source": [
        "k_pts = []\n",
        "def FrameCapture(path): \n",
        "      \n",
        "    # Path to video file \n",
        "    vidObj = cv2.VideoCapture(path) \n",
        "  \n",
        "    # Used as counter variable \n",
        "    count = 0\n",
        "  \n",
        "    # checks whether frames were extracted \n",
        "    success = 1\n",
        "  \n",
        "    while success: \n",
        "  \n",
        "        success, image = vidObj.read() \n",
        "        \n",
        "        im = np.asarray(image)\n",
        "        pose_tracker  = mp.examples.UpperBodyPoseTracker()\n",
        "        pose_landmarks, annotated_image = pose_tracker.run(input_frame=im)\n",
        "        #plt.imshow(annotated_image)\n",
        "        cv2.imwrite(\"/content/drive/My Drive/frames/frame%d.jpg\" % count, annotated_image) \n",
        "        \n",
        "        k_pts.append(pose_landmarks)\n",
        "        # Saves the frames with frame-count \n",
        "        \n",
        "  \n",
        "        count += 1"
      ],
      "execution_count": 22,
      "outputs": []
    },
    {
      "cell_type": "code",
      "metadata": {
        "id": "YpVoO4T1SrQf",
        "colab_type": "code",
        "colab": {
          "base_uri": "https://localhost:8080/",
          "height": 118
        },
        "outputId": "b8ca5d1b-43a1-4d3b-eda8-52330f65f3e2"
      },
      "source": [
        "FrameCapture('/content/drive/My Drive/TYPES OF CAR DRIVERS WE ALL KNOW _ Hasley India.mp4')"
      ],
      "execution_count": null,
      "outputs": [
        {
          "output_type": "stream",
          "text": [
            "UpperBodyPoseTracker.Run() took 0.5592138767242432 seconds\n",
            "UpperBodyPoseTracker.Run() took 0.5558011531829834 seconds\n",
            "UpperBodyPoseTracker.Run() took 0.5399260520935059 seconds\n",
            "UpperBodyPoseTracker.Run() took 0.5480058193206787 seconds\n",
            "UpperBodyPoseTracker.Run() took 0.5599992275238037 seconds\n",
            "UpperBodyPoseTracker.Run() took 0.3724033832550049 seconds\n"
          ],
          "name": "stdout"
        }
      ]
    }
  ]
}